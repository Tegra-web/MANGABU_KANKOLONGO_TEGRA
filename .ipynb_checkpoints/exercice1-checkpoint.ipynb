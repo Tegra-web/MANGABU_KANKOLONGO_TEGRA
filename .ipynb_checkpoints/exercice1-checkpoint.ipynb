{
 "cells": [
  {
   "cell_type": "markdown",
   "id": "44c80b63-29ec-46ec-a740-663e783e16a5",
   "metadata": {},
   "source": [
    "# A.IMPORTATION DE LIBRARIS"
   ]
  },
  {
   "cell_type": "markdown",
   "id": "47f450df-b9c8-4ab0-9a5f-35688f8f7509",
   "metadata": {},
   "source": [
    "# 1.tableau"
   ]
  },
  {
   "cell_type": "markdown",
   "id": "9184051f-bffe-415a-94a6-392e3d380c08",
   "metadata": {},
   "source": [
    "## 1.1 Tableau a 1D"
   ]
  },
  {
   "cell_type": "code",
   "execution_count": null,
   "id": "da86b4c5-88bb-47f5-a89d-102c32ae7205",
   "metadata": {},
   "outputs": [],
   "source": [
    "import numpy as np"
   ]
  },
  {
   "cell_type": "code",
   "execution_count": null,
   "id": "17c0585c-0db4-4c5c-a149-5b3b6710d2d1",
   "metadata": {},
   "outputs": [],
   "source": [
    "#creation de tableau \n",
    "tab_1D = np.array([2,4,6,8,10,12,14])"
   ]
  },
  {
   "cell_type": "code",
   "execution_count": null,
   "id": "a6381e21-9a0f-473d-a392-b5b2272b4a6b",
   "metadata": {},
   "outputs": [],
   "source": [
    "tab_1D"
   ]
  },
  {
   "cell_type": "code",
   "execution_count": null,
   "id": "258764ca-9a10-499c-a55a-20e3d6c4895f",
   "metadata": {},
   "outputs": [],
   "source": []
  },
  {
   "cell_type": "code",
   "execution_count": null,
   "id": "294d975f-827f-49c2-a794-3438a02ee7fb",
   "metadata": {},
   "outputs": [],
   "source": [
    "#creation tableau a 2D "
   ]
  },
  {
   "cell_type": "code",
   "execution_count": null,
   "id": "b28115e0-c4d4-4964-902d-af2010d0533e",
   "metadata": {},
   "outputs": [],
   "source": [
    "tab_2D = np.array([[1,3,5,7,9],\n",
    "[11,13,15,16,17],\n",
    "])"
   ]
  },
  {
   "cell_type": "code",
   "execution_count": null,
   "id": "2dae97b0-6a95-43c2-82fc-6a64817d9f74",
   "metadata": {},
   "outputs": [],
   "source": [
    "print(\"DIMENSION DU TABLEAU\",tab_2D.shape)"
   ]
  },
  {
   "cell_type": "code",
   "execution_count": null,
   "id": "782c7477-c193-4637-a88e-f37a00cd5334",
   "metadata": {},
   "outputs": [],
   "source": [
    "print(\"TYPE DU TABLEAU\",type(tab_2D))"
   ]
  },
  {
   "cell_type": "code",
   "execution_count": null,
   "id": "2f64b2a8-6d6e-4bb9-ad0e-9a1aac37d46c",
   "metadata": {},
   "outputs": [],
   "source": [
    "print(\"VOICI LE TABLEAU\",tab_2D)"
   ]
  },
  {
   "cell_type": "code",
   "execution_count": null,
   "id": "d41ae670-7925-4ad3-9e39-f2eb968d9599",
   "metadata": {},
   "outputs": [],
   "source": []
  },
  {
   "cell_type": "code",
   "execution_count": null,
   "id": "c672b681-5879-474b-90bf-8e4e893a0cb7",
   "metadata": {},
   "outputs": [],
   "source": [
    "#creation tableau a 3D "
   ]
  },
  {
   "cell_type": "code",
   "execution_count": null,
   "id": "078f4258-1ee2-437c-abe3-09c3616054f2",
   "metadata": {},
   "outputs": [],
   "source": [
    "tab_3D = np.array([[[1,3,5,7,9],\n",
    "[11,13,15,16,17],\n",
    "[13,45,67,89,56],\n",
    "]])"
   ]
  },
  {
   "cell_type": "code",
   "execution_count": null,
   "id": "edc5732c-25bd-416f-8f21-7384c77640f6",
   "metadata": {},
   "outputs": [],
   "source": [
    "print(\"DIMENSION DU TABLEAU\",tab_3D.shape)"
   ]
  },
  {
   "cell_type": "code",
   "execution_count": null,
   "id": "de112d9a-f29d-49f7-be89-8584c7a61192",
   "metadata": {},
   "outputs": [],
   "source": [
    "print(\"TYPE DU TABLEAU\",type(tab_3D))"
   ]
  },
  {
   "cell_type": "code",
   "execution_count": null,
   "id": "a21a6183-a327-4cc9-bd98-63bff6824a82",
   "metadata": {},
   "outputs": [],
   "source": [
    "print(\"VOICI LE TABLEAU\",tab_3D)"
   ]
  },
  {
   "cell_type": "code",
   "execution_count": null,
   "id": "886ba2b0-69be-4e4b-8090-37e70d8ff882",
   "metadata": {},
   "outputs": [],
   "source": []
  },
  {
   "cell_type": "code",
   "execution_count": null,
   "id": "3850c593-7464-463c-ad2f-08130758413a",
   "metadata": {},
   "outputs": [],
   "source": [
    "#creation tableau a 4D "
   ]
  },
  {
   "cell_type": "code",
   "execution_count": null,
   "id": "f39acafc-15fa-44ec-852a-60ea16351977",
   "metadata": {},
   "outputs": [],
   "source": [
    "tab_4D = np.array([[[\n",
    "[1,3,5,7,9],\n",
    "[11,13,15,16,17],\n",
    "[13,45,67,89,56],\n",
    "[23,56,67,34,35],\n",
    "]]])"
   ]
  },
  {
   "cell_type": "code",
   "execution_count": null,
   "id": "db7389c7-02ae-47a4-ad6c-67610efb0f66",
   "metadata": {},
   "outputs": [],
   "source": [
    "print(\"DIMENSION DU TABLEAU\",tab_4D.shape)"
   ]
  },
  {
   "cell_type": "code",
   "execution_count": null,
   "id": "88d359ce-b3c4-4d00-b1d2-82008dd708a0",
   "metadata": {},
   "outputs": [],
   "source": [
    "print(\"TYPE DU TABLEAU\",type(tab_4D))"
   ]
  },
  {
   "cell_type": "code",
   "execution_count": null,
   "id": "272122d0-ed1e-454f-a0d5-dda2da491057",
   "metadata": {},
   "outputs": [],
   "source": [
    "print(\"VOICI LE TABLEAU\",tab_4D)"
   ]
  },
  {
   "cell_type": "code",
   "execution_count": null,
   "id": "202a75ca-d656-420c-b73f-c12016264a97",
   "metadata": {},
   "outputs": [],
   "source": []
  },
  {
   "cell_type": "code",
   "execution_count": null,
   "id": "9f0c3ed8-6235-418d-a801-87ef5177f2ac",
   "metadata": {},
   "outputs": [],
   "source": [
    "#selection des elements"
   ]
  },
  {
   "cell_type": "code",
   "execution_count": null,
   "id": "8c4742fd-0e10-410e-8b38-a473e28f91a6",
   "metadata": {},
   "outputs": [],
   "source": []
  },
  {
   "cell_type": "markdown",
   "id": "a5940636-283b-4a7f-9a3e-e453d9edda86",
   "metadata": {},
   "source": [
    "# B.OPERATIONS"
   ]
  },
  {
   "cell_type": "code",
   "execution_count": 35,
   "id": "3f50c4dd-7777-4ca0-be71-e3e2cade2932",
   "metadata": {},
   "outputs": [],
   "source": [
    "import numpy as np"
   ]
  },
  {
   "cell_type": "code",
   "execution_count": 36,
   "id": "b11c783b-9c8a-44da-aa09-d427b81e6fba",
   "metadata": {},
   "outputs": [],
   "source": [
    "a = np.array([\n",
    "    [2,4,6,8],\n",
    "    [25,45,65,85],\n",
    "])\n",
    "b = np.array([\n",
    "    [20,40,60,80],\n",
    "    [250,450,650,850],\n",
    "])"
   ]
  },
  {
   "cell_type": "code",
   "execution_count": 39,
   "id": "40930798-0b7b-446f-a1f2-b768dfc95a46",
   "metadata": {},
   "outputs": [
    {
     "name": "stdout",
     "output_type": "stream",
     "text": [
      "[[ 2  4  6  8]\n",
      " [25 45 65 85]]\n"
     ]
    }
   ],
   "source": [
    "print(a)"
   ]
  },
  {
   "cell_type": "code",
   "execution_count": 40,
   "id": "7fa279b9-e624-43ec-aaed-6a0802dcb959",
   "metadata": {},
   "outputs": [
    {
     "name": "stdout",
     "output_type": "stream",
     "text": [
      "[[ 22  44  66  88]\n",
      " [275 495 715 935]]\n"
     ]
    }
   ],
   "source": [
    "#addition \n",
    "print(a+b)"
   ]
  },
  {
   "cell_type": "code",
   "execution_count": 41,
   "id": "cd66f03a-7fb1-4ec5-9f02-941ee6933a1b",
   "metadata": {},
   "outputs": [
    {
     "name": "stdout",
     "output_type": "stream",
     "text": [
      "[[ -18  -36  -54  -72]\n",
      " [-225 -405 -585 -765]]\n"
     ]
    }
   ],
   "source": [
    "#soustraction\n",
    "print(a-b)"
   ]
  },
  {
   "cell_type": "code",
   "execution_count": 42,
   "id": "e03b397d-85be-47e8-805c-4be59221bce9",
   "metadata": {},
   "outputs": [
    {
     "name": "stdout",
     "output_type": "stream",
     "text": [
      "[[   40   160   360   640]\n",
      " [ 6250 20250 42250 72250]]\n"
     ]
    }
   ],
   "source": [
    "#multiplication\n",
    "print(a*b)"
   ]
  },
  {
   "cell_type": "code",
   "execution_count": 43,
   "id": "9732b783-bc70-4ba5-ab3e-53d2c24b36cf",
   "metadata": {},
   "outputs": [
    {
     "name": "stdout",
     "output_type": "stream",
     "text": [
      "[[0.1 0.1 0.1 0.1]\n",
      " [0.1 0.1 0.1 0.1]]\n"
     ]
    }
   ],
   "source": [
    "#division\n",
    "print(a/b)"
   ]
  },
  {
   "cell_type": "code",
   "execution_count": null,
   "id": "84b7f940-c1c0-4c09-9703-a8fef4668717",
   "metadata": {},
   "outputs": [],
   "source": []
  },
  {
   "cell_type": "markdown",
   "id": "1e791571-2b64-4de3-8d53-c5b762ba32ec",
   "metadata": {},
   "source": [
    "# C. MANIPULATION DES DONNEES"
   ]
  },
  {
   "cell_type": "code",
   "execution_count": 5,
   "id": "5c6ab4f4-5674-49e7-9bde-56212940d6d4",
   "metadata": {},
   "outputs": [],
   "source": [
    "# creation d'un dictionnaire\n",
    "Info_etudiants = {\n",
    "    'Matricule':'2022020041',\n",
    "    'Nom':'MANGABU',\n",
    "    'Prenom':'Tegra',\n",
    "    'Age':20,\n",
    "    'GPA':'A'\n",
    "}"
   ]
  },
  {
   "cell_type": "code",
   "execution_count": 6,
   "id": "1e817bed-4dbb-48cd-bfda-909d2559f3ed",
   "metadata": {},
   "outputs": [
    {
     "data": {
      "text/plain": [
       "{'Matricule': '2022020041',\n",
       " 'Nom': 'MANGABU',\n",
       " 'Prenom': 'Tegra',\n",
       " 'Age': 20,\n",
       " 'GPA': 'A'}"
      ]
     },
     "execution_count": 6,
     "metadata": {},
     "output_type": "execute_result"
    }
   ],
   "source": [
    "Info_etudiants"
   ]
  },
  {
   "cell_type": "code",
   "execution_count": 7,
   "id": "ac4e19bf-5555-433a-a502-30da2e4dd530",
   "metadata": {},
   "outputs": [
    {
     "name": "stdout",
     "output_type": "stream",
     "text": [
      "{'Matricule': '2022020041', 'Nom': 'MANGABU', 'Prenom': 'Tegra', 'Age': 20, 'GPA': 'A'}\n"
     ]
    }
   ],
   "source": [
    "print(Info_etudiants)"
   ]
  },
  {
   "cell_type": "code",
   "execution_count": 44,
   "id": "252b364b-7197-43b1-8106-84dcdcce1db1",
   "metadata": {},
   "outputs": [],
   "source": [
    "Info_Tout_Les_etudiants_Bac3_GL_IA = {\n",
    "    'Matricule':['2022020041','200023456','2022020067','2022023781','2022054678'],\n",
    "    'Nom':['MANGABU','KARUMB','KAJ','BARUANI','NSENGA'],\n",
    "    'Age':[20,21,23,26,27],\n",
    "    'Genre':['F','F','F','M','M'],\n",
    "    'GPA':['A','B','C','A','B']\n",
    "}"
   ]
  },
  {
   "cell_type": "code",
   "execution_count": 45,
   "id": "ce606993-7b5f-480c-99da-c7eab6d10770",
   "metadata": {},
   "outputs": [
    {
     "data": {
      "text/plain": [
       "{'Matricule': ['2022020041',\n",
       "  '200023456',\n",
       "  '2022020067',\n",
       "  '2022023781',\n",
       "  '2022054678'],\n",
       " 'Nom': ['MANGABU', 'KARUMB', 'KAJ', 'BARUANI', 'NSENGA'],\n",
       " 'Age': [20, 21, 23, 26, 27],\n",
       " 'Genre': ['F', 'F', 'F', 'M', 'M'],\n",
       " 'GPA': ['A', 'B', 'C', 'A', 'B']}"
      ]
     },
     "execution_count": 45,
     "metadata": {},
     "output_type": "execute_result"
    }
   ],
   "source": [
    "Info_Tout_Les_etudiants_Bac3_GL_IA"
   ]
  },
  {
   "cell_type": "code",
   "execution_count": 46,
   "id": "ef6793c5-7ca3-4c6b-8c70-1cd6345f8e71",
   "metadata": {},
   "outputs": [
    {
     "name": "stdout",
     "output_type": "stream",
     "text": [
      "voici les donnes des etudiants {'Matricule': ['2022020041', '200023456', '2022020067', '2022023781', '2022054678'], 'Nom': ['MANGABU', 'KARUMB', 'KAJ', 'BARUANI', 'NSENGA'], 'Age': [20, 21, 23, 26, 27], 'Genre': ['F', 'F', 'F', 'M', 'M'], 'GPA': ['A', 'B', 'C', 'A', 'B']}\n"
     ]
    }
   ],
   "source": [
    "print('voici les donnes des etudiants',Info_Tout_Les_etudiants_Bac3_GL_IA)"
   ]
  },
  {
   "cell_type": "code",
   "execution_count": null,
   "id": "f03dfe86-a859-44a9-af6d-e00e57e120b8",
   "metadata": {},
   "outputs": [],
   "source": []
  },
  {
   "cell_type": "code",
   "execution_count": 47,
   "id": "fb7709fd-2246-4405-881a-15c2536737f0",
   "metadata": {},
   "outputs": [],
   "source": [
    "#import Pandas\n",
    "import pandas as pd"
   ]
  },
  {
   "cell_type": "code",
   "execution_count": 48,
   "id": "a0e88d91-66bf-4599-bd29-39863e12e3af",
   "metadata": {},
   "outputs": [],
   "source": [
    "donnees_etudiants = pd.DataFrame(Info_Tout_Les_etudiants_Bac3_GL_IA)"
   ]
  },
  {
   "cell_type": "code",
   "execution_count": 49,
   "id": "5fb6b53c-da89-451a-a443-472e78209d5d",
   "metadata": {},
   "outputs": [
    {
     "data": {
      "text/html": [
       "<div>\n",
       "<style scoped>\n",
       "    .dataframe tbody tr th:only-of-type {\n",
       "        vertical-align: middle;\n",
       "    }\n",
       "\n",
       "    .dataframe tbody tr th {\n",
       "        vertical-align: top;\n",
       "    }\n",
       "\n",
       "    .dataframe thead th {\n",
       "        text-align: right;\n",
       "    }\n",
       "</style>\n",
       "<table border=\"1\" class=\"dataframe\">\n",
       "  <thead>\n",
       "    <tr style=\"text-align: right;\">\n",
       "      <th></th>\n",
       "      <th>Matricule</th>\n",
       "      <th>Nom</th>\n",
       "      <th>Age</th>\n",
       "      <th>Genre</th>\n",
       "      <th>GPA</th>\n",
       "    </tr>\n",
       "  </thead>\n",
       "  <tbody>\n",
       "    <tr>\n",
       "      <th>0</th>\n",
       "      <td>2022020041</td>\n",
       "      <td>MANGABU</td>\n",
       "      <td>20</td>\n",
       "      <td>F</td>\n",
       "      <td>A</td>\n",
       "    </tr>\n",
       "    <tr>\n",
       "      <th>1</th>\n",
       "      <td>200023456</td>\n",
       "      <td>KARUMB</td>\n",
       "      <td>21</td>\n",
       "      <td>F</td>\n",
       "      <td>B</td>\n",
       "    </tr>\n",
       "    <tr>\n",
       "      <th>2</th>\n",
       "      <td>2022020067</td>\n",
       "      <td>KAJ</td>\n",
       "      <td>23</td>\n",
       "      <td>F</td>\n",
       "      <td>C</td>\n",
       "    </tr>\n",
       "    <tr>\n",
       "      <th>3</th>\n",
       "      <td>2022023781</td>\n",
       "      <td>BARUANI</td>\n",
       "      <td>26</td>\n",
       "      <td>M</td>\n",
       "      <td>A</td>\n",
       "    </tr>\n",
       "    <tr>\n",
       "      <th>4</th>\n",
       "      <td>2022054678</td>\n",
       "      <td>NSENGA</td>\n",
       "      <td>27</td>\n",
       "      <td>M</td>\n",
       "      <td>B</td>\n",
       "    </tr>\n",
       "  </tbody>\n",
       "</table>\n",
       "</div>"
      ],
      "text/plain": [
       "    Matricule      Nom  Age Genre GPA\n",
       "0  2022020041  MANGABU   20     F   A\n",
       "1   200023456   KARUMB   21     F   B\n",
       "2  2022020067      KAJ   23     F   C\n",
       "3  2022023781  BARUANI   26     M   A\n",
       "4  2022054678   NSENGA   27     M   B"
      ]
     },
     "execution_count": 49,
     "metadata": {},
     "output_type": "execute_result"
    }
   ],
   "source": [
    "donnees_etudiants"
   ]
  },
  {
   "cell_type": "code",
   "execution_count": 22,
   "id": "920b2ccb-a7e4-4e58-9d08-b78994f256d6",
   "metadata": {},
   "outputs": [
    {
     "data": {
      "text/html": [
       "<div>\n",
       "<style scoped>\n",
       "    .dataframe tbody tr th:only-of-type {\n",
       "        vertical-align: middle;\n",
       "    }\n",
       "\n",
       "    .dataframe tbody tr th {\n",
       "        vertical-align: top;\n",
       "    }\n",
       "\n",
       "    .dataframe thead th {\n",
       "        text-align: right;\n",
       "    }\n",
       "</style>\n",
       "<table border=\"1\" class=\"dataframe\">\n",
       "  <thead>\n",
       "    <tr style=\"text-align: right;\">\n",
       "      <th></th>\n",
       "      <th>Matricule</th>\n",
       "      <th>Nom</th>\n",
       "      <th>Age</th>\n",
       "      <th>GPA</th>\n",
       "    </tr>\n",
       "  </thead>\n",
       "  <tbody>\n",
       "    <tr>\n",
       "      <th>0</th>\n",
       "      <td>2022020041</td>\n",
       "      <td>MANGABU</td>\n",
       "      <td>20</td>\n",
       "      <td>A</td>\n",
       "    </tr>\n",
       "    <tr>\n",
       "      <th>1</th>\n",
       "      <td>200023456</td>\n",
       "      <td>KARUMB</td>\n",
       "      <td>21</td>\n",
       "      <td>B</td>\n",
       "    </tr>\n",
       "  </tbody>\n",
       "</table>\n",
       "</div>"
      ],
      "text/plain": [
       "    Matricule      Nom  Age GPA\n",
       "0  2022020041  MANGABU   20   A\n",
       "1   200023456   KARUMB   21   B"
      ]
     },
     "execution_count": 22,
     "metadata": {},
     "output_type": "execute_result"
    }
   ],
   "source": [
    "donnees_etudiants.head(2)"
   ]
  },
  {
   "cell_type": "code",
   "execution_count": 23,
   "id": "405fb0ce-91ac-4fea-a41d-31ca08e612bc",
   "metadata": {},
   "outputs": [
    {
     "data": {
      "text/plain": [
       "0    2022020041\n",
       "1     200023456\n",
       "2    2022020067\n",
       "3    2022023781\n",
       "4    2022054678\n",
       "Name: Matricule, dtype: object"
      ]
     },
     "execution_count": 23,
     "metadata": {},
     "output_type": "execute_result"
    }
   ],
   "source": [
    "donnees_etudiants['Matricule']"
   ]
  },
  {
   "cell_type": "code",
   "execution_count": null,
   "id": "6fc11a96-f14a-43b2-b20f-11ddd9a9d2d2",
   "metadata": {},
   "outputs": [],
   "source": []
  },
  {
   "cell_type": "code",
   "execution_count": 27,
   "id": "cbe80921-ec51-4103-ac88-e54ad94f51bd",
   "metadata": {},
   "outputs": [
    {
     "data": {
      "text/html": [
       "<div>\n",
       "<style scoped>\n",
       "    .dataframe tbody tr th:only-of-type {\n",
       "        vertical-align: middle;\n",
       "    }\n",
       "\n",
       "    .dataframe tbody tr th {\n",
       "        vertical-align: top;\n",
       "    }\n",
       "\n",
       "    .dataframe thead th {\n",
       "        text-align: right;\n",
       "    }\n",
       "</style>\n",
       "<table border=\"1\" class=\"dataframe\">\n",
       "  <thead>\n",
       "    <tr style=\"text-align: right;\">\n",
       "      <th></th>\n",
       "      <th>Matricule</th>\n",
       "      <th>Nom</th>\n",
       "      <th>Age</th>\n",
       "      <th>GPA</th>\n",
       "    </tr>\n",
       "  </thead>\n",
       "  <tbody>\n",
       "    <tr>\n",
       "      <th>3</th>\n",
       "      <td>2022023781</td>\n",
       "      <td>BARUANI</td>\n",
       "      <td>26</td>\n",
       "      <td>A</td>\n",
       "    </tr>\n",
       "  </tbody>\n",
       "</table>\n",
       "</div>"
      ],
      "text/plain": [
       "    Matricule      Nom  Age GPA\n",
       "3  2022023781  BARUANI   26   A"
      ]
     },
     "execution_count": 27,
     "metadata": {},
     "output_type": "execute_result"
    }
   ],
   "source": [
    "donnees_etudiants.iloc[3:4, : ]"
   ]
  },
  {
   "cell_type": "code",
   "execution_count": 33,
   "id": "caa8bb80-17f8-410f-916f-bbdeba3dd31c",
   "metadata": {},
   "outputs": [
    {
     "data": {
      "text/html": [
       "<div>\n",
       "<style scoped>\n",
       "    .dataframe tbody tr th:only-of-type {\n",
       "        vertical-align: middle;\n",
       "    }\n",
       "\n",
       "    .dataframe tbody tr th {\n",
       "        vertical-align: top;\n",
       "    }\n",
       "\n",
       "    .dataframe thead th {\n",
       "        text-align: right;\n",
       "    }\n",
       "</style>\n",
       "<table border=\"1\" class=\"dataframe\">\n",
       "  <thead>\n",
       "    <tr style=\"text-align: right;\">\n",
       "      <th></th>\n",
       "      <th>Matricule</th>\n",
       "      <th>Nom</th>\n",
       "      <th>Age</th>\n",
       "      <th>GPA</th>\n",
       "    </tr>\n",
       "  </thead>\n",
       "  <tbody>\n",
       "    <tr>\n",
       "      <th>2</th>\n",
       "      <td>2022020067</td>\n",
       "      <td>KAJ</td>\n",
       "      <td>23</td>\n",
       "      <td>C</td>\n",
       "    </tr>\n",
       "    <tr>\n",
       "      <th>3</th>\n",
       "      <td>2022023781</td>\n",
       "      <td>BARUANI</td>\n",
       "      <td>26</td>\n",
       "      <td>A</td>\n",
       "    </tr>\n",
       "  </tbody>\n",
       "</table>\n",
       "</div>"
      ],
      "text/plain": [
       "    Matricule      Nom  Age GPA\n",
       "2  2022020067      KAJ   23   C\n",
       "3  2022023781  BARUANI   26   A"
      ]
     },
     "execution_count": 33,
     "metadata": {},
     "output_type": "execute_result"
    }
   ],
   "source": [
    "donnees_etudiants.iloc[2:4, : ]"
   ]
  },
  {
   "cell_type": "code",
   "execution_count": 38,
   "id": "32c11832-bb99-471b-9977-868398dac4a7",
   "metadata": {},
   "outputs": [
    {
     "data": {
      "text/html": [
       "<div>\n",
       "<style scoped>\n",
       "    .dataframe tbody tr th:only-of-type {\n",
       "        vertical-align: middle;\n",
       "    }\n",
       "\n",
       "    .dataframe tbody tr th {\n",
       "        vertical-align: top;\n",
       "    }\n",
       "\n",
       "    .dataframe thead th {\n",
       "        text-align: right;\n",
       "    }\n",
       "</style>\n",
       "<table border=\"1\" class=\"dataframe\">\n",
       "  <thead>\n",
       "    <tr style=\"text-align: right;\">\n",
       "      <th></th>\n",
       "      <th>Nom</th>\n",
       "    </tr>\n",
       "  </thead>\n",
       "  <tbody>\n",
       "    <tr>\n",
       "      <th>1</th>\n",
       "      <td>KARUMB</td>\n",
       "    </tr>\n",
       "  </tbody>\n",
       "</table>\n",
       "</div>"
      ],
      "text/plain": [
       "      Nom\n",
       "1  KARUMB"
      ]
     },
     "execution_count": 38,
     "metadata": {},
     "output_type": "execute_result"
    }
   ],
   "source": [
    "donnees_etudiants.iloc[1:2, 1: ]"
   ]
  },
  {
   "cell_type": "code",
   "execution_count": 52,
   "id": "d0cc128c-72b7-4e69-9797-729c044e164d",
   "metadata": {},
   "outputs": [
    {
     "data": {
      "text/html": [
       "<div>\n",
       "<style scoped>\n",
       "    .dataframe tbody tr th:only-of-type {\n",
       "        vertical-align: middle;\n",
       "    }\n",
       "\n",
       "    .dataframe tbody tr th {\n",
       "        vertical-align: top;\n",
       "    }\n",
       "\n",
       "    .dataframe thead th {\n",
       "        text-align: right;\n",
       "    }\n",
       "</style>\n",
       "<table border=\"1\" class=\"dataframe\">\n",
       "  <thead>\n",
       "    <tr style=\"text-align: right;\">\n",
       "      <th></th>\n",
       "      <th>Matricule</th>\n",
       "      <th>Nom</th>\n",
       "      <th>Age</th>\n",
       "      <th>Genre</th>\n",
       "      <th>GPA</th>\n",
       "    </tr>\n",
       "  </thead>\n",
       "  <tbody>\n",
       "    <tr>\n",
       "      <th>0</th>\n",
       "      <td>2022020041</td>\n",
       "      <td>MANGABU</td>\n",
       "      <td>20</td>\n",
       "      <td>0</td>\n",
       "      <td>A</td>\n",
       "    </tr>\n",
       "    <tr>\n",
       "      <th>1</th>\n",
       "      <td>200023456</td>\n",
       "      <td>KARUMB</td>\n",
       "      <td>21</td>\n",
       "      <td>0</td>\n",
       "      <td>B</td>\n",
       "    </tr>\n",
       "    <tr>\n",
       "      <th>2</th>\n",
       "      <td>2022020067</td>\n",
       "      <td>KAJ</td>\n",
       "      <td>23</td>\n",
       "      <td>0</td>\n",
       "      <td>C</td>\n",
       "    </tr>\n",
       "    <tr>\n",
       "      <th>3</th>\n",
       "      <td>2022023781</td>\n",
       "      <td>BARUANI</td>\n",
       "      <td>26</td>\n",
       "      <td>1</td>\n",
       "      <td>A</td>\n",
       "    </tr>\n",
       "    <tr>\n",
       "      <th>4</th>\n",
       "      <td>2022054678</td>\n",
       "      <td>NSENGA</td>\n",
       "      <td>27</td>\n",
       "      <td>1</td>\n",
       "      <td>B</td>\n",
       "    </tr>\n",
       "  </tbody>\n",
       "</table>\n",
       "</div>"
      ],
      "text/plain": [
       "    Matricule      Nom  Age  Genre GPA\n",
       "0  2022020041  MANGABU   20      0   A\n",
       "1   200023456   KARUMB   21      0   B\n",
       "2  2022020067      KAJ   23      0   C\n",
       "3  2022023781  BARUANI   26      1   A\n",
       "4  2022054678   NSENGA   27      1   B"
      ]
     },
     "execution_count": 52,
     "metadata": {},
     "output_type": "execute_result"
    }
   ],
   "source": [
    "#convertir la colonne genre \n",
    "#Mapping de la colonne \n",
    "Mapping_Genre = {'M':1,'F':0}\n",
    "donnees_etudiants['Genre'] = donnees_etudiants['Genre'].map(Mapping_Genre) \n",
    "donnees_etudiants"
   ]
  },
  {
   "cell_type": "code",
   "execution_count": null,
   "id": "3adfa9f4-ee29-4d6c-a569-07c4fec7dc5a",
   "metadata": {},
   "outputs": [],
   "source": [
    "# supprimer\n",
    "# donnees_etudiants.drop(columns='GPA',inplace=True, axis=1)"
   ]
  },
  {
   "cell_type": "code",
   "execution_count": null,
   "id": "5488098c-5fde-4069-964a-b70841382b5b",
   "metadata": {},
   "outputs": [],
   "source": []
  },
  {
   "cell_type": "code",
   "execution_count": 51,
   "id": "30a4de18-f24a-4616-8e45-69c5f1928810",
   "metadata": {},
   "outputs": [
    {
     "name": "stdout",
     "output_type": "stream",
     "text": [
      "<class 'pandas.core.frame.DataFrame'>\n",
      "RangeIndex: 5 entries, 0 to 4\n",
      "Data columns (total 5 columns):\n",
      " #   Column     Non-Null Count  Dtype \n",
      "---  ------     --------------  ----- \n",
      " 0   Matricule  5 non-null      object\n",
      " 1   Nom        5 non-null      object\n",
      " 2   Age        5 non-null      int64 \n",
      " 3   Genre      5 non-null      object\n",
      " 4   GPA        5 non-null      object\n",
      "dtypes: int64(1), object(4)\n",
      "memory usage: 328.0+ bytes\n"
     ]
    }
   ],
   "source": [
    "donnees_etudiants.info()"
   ]
  },
  {
   "cell_type": "code",
   "execution_count": null,
   "id": "ff3ae5bf-eb67-4e0c-9a94-37ce46b6b7bf",
   "metadata": {},
   "outputs": [],
   "source": []
  },
  {
   "cell_type": "markdown",
   "id": "4179d2ee-fd5b-42e9-b8cc-392b8a54171a",
   "metadata": {},
   "source": [
    "# D.VISUALISATION DES DONNES"
   ]
  },
  {
   "cell_type": "code",
   "execution_count": 80,
   "id": "92a4185b-8c7c-4a8e-ac96-5485ce101aa4",
   "metadata": {},
   "outputs": [],
   "source": [
    "#creation des donnees \n",
    "X = np.linspace(0,2,50)"
   ]
  },
  {
   "cell_type": "code",
   "execution_count": 81,
   "id": "918dd642-0d0d-4c59-827f-52734a5dc019",
   "metadata": {},
   "outputs": [
    {
     "data": {
      "text/plain": [
       "array([0.        , 0.04081633, 0.08163265, 0.12244898, 0.16326531,\n",
       "       0.20408163, 0.24489796, 0.28571429, 0.32653061, 0.36734694,\n",
       "       0.40816327, 0.44897959, 0.48979592, 0.53061224, 0.57142857,\n",
       "       0.6122449 , 0.65306122, 0.69387755, 0.73469388, 0.7755102 ,\n",
       "       0.81632653, 0.85714286, 0.89795918, 0.93877551, 0.97959184,\n",
       "       1.02040816, 1.06122449, 1.10204082, 1.14285714, 1.18367347,\n",
       "       1.2244898 , 1.26530612, 1.30612245, 1.34693878, 1.3877551 ,\n",
       "       1.42857143, 1.46938776, 1.51020408, 1.55102041, 1.59183673,\n",
       "       1.63265306, 1.67346939, 1.71428571, 1.75510204, 1.79591837,\n",
       "       1.83673469, 1.87755102, 1.91836735, 1.95918367, 2.        ])"
      ]
     },
     "execution_count": 81,
     "metadata": {},
     "output_type": "execute_result"
    }
   ],
   "source": [
    "X"
   ]
  },
  {
   "cell_type": "code",
   "execution_count": 86,
   "id": "15acdf3a-3583-4bb6-b470-119342334800",
   "metadata": {},
   "outputs": [
    {
     "data": {
      "text/plain": [
       "<matplotlib.legend.Legend at 0x22c351d18a0>"
      ]
     },
     "execution_count": 86,
     "metadata": {},
     "output_type": "execute_result"
    },
    {
     "data": {
      "image/png": "[encoded data removed]",
      "text/plain": [
       "<Figure size 600x400 with 1 Axes>"
      ]
     },
     "metadata": {},
     "output_type": "display_data"
    }
   ],
   "source": [
    "#importer matplotlib\n",
    "import matplotlib.pyplot as plt\n",
    "fig, ax= plt.subplots(figsize=(6,4))\n",
    "ax.plot(X,X**2,label='double')\n",
    "ax.plot(X,X**2,label= 'carre de x')\n",
    "ax.plot(X,X**3,label= 'cube de x')\n",
    "ax.set_xlabel('donnee de x')\n",
    "ax.set_ylabel('donnee de y')\n",
    "plt.title('donnees de linspace entre 0 et 2')\n",
    "ax.legend()\n"
   ]
  },
  {
   "cell_type": "code",
   "execution_count": 84,
   "id": "d6abf6d0-31b0-4ab0-873c-37e8f6b33922",
   "metadata": {},
   "outputs": [],
   "source": [
    "#inporter seaborn\n",
    "import seaborn as sns"
   ]
  },
  {
   "cell_type": "code",
   "execution_count": 106,
   "id": "9cb21020-aff8-402f-90ba-3b6df63ed649",
   "metadata": {},
   "outputs": [
    {
     "data": {
      "text/html": [
       "<div>\n",
       "<style scoped>\n",
       "    .dataframe tbody tr th:only-of-type {\n",
       "        vertical-align: middle;\n",
       "    }\n",
       "\n",
       "    .dataframe tbody tr th {\n",
       "        vertical-align: top;\n",
       "    }\n",
       "\n",
       "    .dataframe thead th {\n",
       "        text-align: right;\n",
       "    }\n",
       "</style>\n",
       "<table border=\"1\" class=\"dataframe\">\n",
       "  <thead>\n",
       "    <tr style=\"text-align: right;\">\n",
       "      <th></th>\n",
       "      <th>sepal_length</th>\n",
       "      <th>sepal_width</th>\n",
       "      <th>petal_length</th>\n",
       "      <th>petal_width</th>\n",
       "      <th>species</th>\n",
       "    </tr>\n",
       "  </thead>\n",
       "  <tbody>\n",
       "    <tr>\n",
       "      <th>0</th>\n",
       "      <td>5.1</td>\n",
       "      <td>3.5</td>\n",
       "      <td>1.4</td>\n",
       "      <td>0.2</td>\n",
       "      <td>0</td>\n",
       "    </tr>\n",
       "    <tr>\n",
       "      <th>1</th>\n",
       "      <td>4.9</td>\n",
       "      <td>3.0</td>\n",
       "      <td>1.4</td>\n",
       "      <td>0.2</td>\n",
       "      <td>0</td>\n",
       "    </tr>\n",
       "    <tr>\n",
       "      <th>2</th>\n",
       "      <td>4.7</td>\n",
       "      <td>3.2</td>\n",
       "      <td>1.3</td>\n",
       "      <td>0.2</td>\n",
       "      <td>0</td>\n",
       "    </tr>\n",
       "    <tr>\n",
       "      <th>3</th>\n",
       "      <td>4.6</td>\n",
       "      <td>3.1</td>\n",
       "      <td>1.5</td>\n",
       "      <td>0.2</td>\n",
       "      <td>0</td>\n",
       "    </tr>\n",
       "    <tr>\n",
       "      <th>4</th>\n",
       "      <td>5.0</td>\n",
       "      <td>3.6</td>\n",
       "      <td>1.4</td>\n",
       "      <td>0.2</td>\n",
       "      <td>0</td>\n",
       "    </tr>\n",
       "  </tbody>\n",
       "</table>\n",
       "</div>"
      ],
      "text/plain": [
       "   sepal_length  sepal_width  petal_length  petal_width  species\n",
       "0           5.1          3.5           1.4          0.2        0\n",
       "1           4.9          3.0           1.4          0.2        0\n",
       "2           4.7          3.2           1.3          0.2        0\n",
       "3           4.6          3.1           1.5          0.2        0\n",
       "4           5.0          3.6           1.4          0.2        0"
      ]
     },
     "execution_count": 106,
     "metadata": {},
     "output_type": "execute_result"
    }
   ],
   "source": [
    "iris_data= sns.load_dataset('iris')\n",
    "Mapping_td = {\n",
    "    'setosa':0,\n",
    "    'versicolor':1,\n",
    "    'virginica':2\n",
    "}\n",
    "iris_data['species'] = iris_data['species'].map(Mapping_td)\n",
    "\n",
    "iris_data.head()"
   ]
  },
  {
   "cell_type": "code",
   "execution_count": 107,
   "id": "5fa42e86-4346-4caa-a735-bf932341396d",
   "metadata": {},
   "outputs": [
    {
     "data": {
      "text/plain": [
       "array([0, 1, 2])"
      ]
     },
     "execution_count": 107,
     "metadata": {},
     "output_type": "execute_result"
    }
   ],
   "source": [
    "iris_data['species'].unique()"
   ]
  },
  {
   "cell_type": "code",
   "execution_count": null,
   "id": "1ec86e4a-45e8-4876-a40c-e1387e8ba747",
   "metadata": {},
   "outputs": [],
   "source": []
  },
  {
   "cell_type": "code",
   "execution_count": null,
   "id": "c7dc1d6a-3fb3-41b4-8e8a-25dc73be4a78",
   "metadata": {},
   "outputs": [],
   "source": []
  },
  {
   "cell_type": "code",
   "execution_count": null,
   "id": "13b7a82e-8e24-43bc-95c6-f16e1ef31152",
   "metadata": {},
   "outputs": [],
   "source": []
  },
  {
   "cell_type": "code",
   "execution_count": null,
   "id": "46fbf568-c937-4c1f-b5ea-7a346293c3e1",
   "metadata": {},
   "outputs": [],
   "source": []
  },
  {
   "cell_type": "code",
   "execution_count": null,
   "id": "16f29ba1-b1ad-472a-b351-1cdafe0137d2",
   "metadata": {},
   "outputs": [],
   "source": []
  },
  {
   "cell_type": "code",
   "execution_count": 87,
   "id": "15fbc4ea-0874-4bb6-8e2e-27db6784379e",
   "metadata": {},
   "outputs": [
    {
     "data": {
      "text/plain": [
       "array(['setosa', 'versicolor', 'virginica'], dtype=object)"
      ]
     },
     "execution_count": 87,
     "metadata": {},
     "output_type": "execute_result"
    }
   ],
   "source": [
    "iris_data.shape \n",
    "(150,5)\n",
    "iris_data['species'].unique()"
   ]
  },
  {
   "cell_type": "code",
   "execution_count": 91,
   "id": "7c4d6438-9e44-4361-a424-c4d245903c52",
   "metadata": {},
   "outputs": [
    {
     "data": {
      "text/plain": [
       "<Axes: xlabel='sepal_length', ylabel='sepal_width'>"
      ]
     },
     "execution_count": 91,
     "metadata": {},
     "output_type": "execute_result"
    },
    {
     "data": {
      "image/png": "[encoded data removed]",
      "text/plain": [
       "<Figure size 640x480 with 1 Axes>"
      ]
     },
     "metadata": {},
     "output_type": "display_data"
    }
   ],
   "source": [
    "sns.scatterplot(x='sepal_length',y='sepal_width',data=iris_data, hue='species')"
   ]
  },
  {
   "cell_type": "code",
   "execution_count": 103,
   "id": "72415875-4d45-4483-b092-d7cf77adbd78",
   "metadata": {},
   "outputs": [
    {
     "data": {
      "text/plain": [
       "array([nan])"
      ]
     },
     "execution_count": 103,
     "metadata": {},
     "output_type": "execute_result"
    }
   ],
   "source": [
    "Mapping_td = {\n",
    "    'setosa':0,\n",
    "    'versicolor':1,\n",
    "    'virginica':2\n",
    "}\n",
    "iris_data['species'] = iris_data['species'].map(Mapping_td)\n",
    "iris_data['species'].unique()"
   ]
  },
  {
   "cell_type": "code",
   "execution_count": 104,
   "id": "2a837cda-57d6-4352-ad4f-fecfb282cbd5",
   "metadata": {},
   "outputs": [
    {
     "data": {
      "text/html": [
       "<div>\n",
       "<style scoped>\n",
       "    .dataframe tbody tr th:only-of-type {\n",
       "        vertical-align: middle;\n",
       "    }\n",
       "\n",
       "    .dataframe tbody tr th {\n",
       "        vertical-align: top;\n",
       "    }\n",
       "\n",
       "    .dataframe thead th {\n",
       "        text-align: right;\n",
       "    }\n",
       "</style>\n",
       "<table border=\"1\" class=\"dataframe\">\n",
       "  <thead>\n",
       "    <tr style=\"text-align: right;\">\n",
       "      <th></th>\n",
       "      <th>sepal_length</th>\n",
       "      <th>sepal_width</th>\n",
       "      <th>petal_length</th>\n",
       "      <th>petal_width</th>\n",
       "      <th>species</th>\n",
       "    </tr>\n",
       "  </thead>\n",
       "  <tbody>\n",
       "    <tr>\n",
       "      <th>0</th>\n",
       "      <td>5.1</td>\n",
       "      <td>3.5</td>\n",
       "      <td>1.4</td>\n",
       "      <td>0.2</td>\n",
       "      <td>NaN</td>\n",
       "    </tr>\n",
       "    <tr>\n",
       "      <th>1</th>\n",
       "      <td>4.9</td>\n",
       "      <td>3.0</td>\n",
       "      <td>1.4</td>\n",
       "      <td>0.2</td>\n",
       "      <td>NaN</td>\n",
       "    </tr>\n",
       "    <tr>\n",
       "      <th>2</th>\n",
       "      <td>4.7</td>\n",
       "      <td>3.2</td>\n",
       "      <td>1.3</td>\n",
       "      <td>0.2</td>\n",
       "      <td>NaN</td>\n",
       "    </tr>\n",
       "    <tr>\n",
       "      <th>3</th>\n",
       "      <td>4.6</td>\n",
       "      <td>3.1</td>\n",
       "      <td>1.5</td>\n",
       "      <td>0.2</td>\n",
       "      <td>NaN</td>\n",
       "    </tr>\n",
       "    <tr>\n",
       "      <th>4</th>\n",
       "      <td>5.0</td>\n",
       "      <td>3.6</td>\n",
       "      <td>1.4</td>\n",
       "      <td>0.2</td>\n",
       "      <td>NaN</td>\n",
       "    </tr>\n",
       "  </tbody>\n",
       "</table>\n",
       "</div>"
      ],
      "text/plain": [
       "   sepal_length  sepal_width  petal_length  petal_width  species\n",
       "0           5.1          3.5           1.4          0.2      NaN\n",
       "1           4.9          3.0           1.4          0.2      NaN\n",
       "2           4.7          3.2           1.3          0.2      NaN\n",
       "3           4.6          3.1           1.5          0.2      NaN\n",
       "4           5.0          3.6           1.4          0.2      NaN"
      ]
     },
     "execution_count": 104,
     "metadata": {},
     "output_type": "execute_result"
    }
   ],
   "source": [
    "iris_data.head()"
   ]
  },
  {
   "cell_type": "code",
   "execution_count": null,
   "id": "55cca452-32cc-4642-9153-6b5d210a4a63",
   "metadata": {},
   "outputs": [],
   "source": []
  }
 ],
 "metadata": {
  "kernelspec": {
   "display_name": "Python 3 (ipykernel)",
   "language": "python",
   "name": "python3"
  },
  "language_info": {
   "codemirror_mode": {
    "name": "ipython",
    "version": 3
   },
   "file_extension": ".py",
   "mimetype": "text/x-python",
   "name": "python",
   "nbconvert_exporter": "python",
   "pygments_lexer": "ipython3",
   "version": "3.10.16"
  }
 },
 "nbformat": 4,
 "nbformat_minor": 5
}
